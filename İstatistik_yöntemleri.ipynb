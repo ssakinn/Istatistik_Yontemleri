{
 "cells": [
  {
   "cell_type": "code",
   "execution_count": 1,
   "id": "6225a154-c165-434d-bf8b-0053487367a4",
   "metadata": {},
   "outputs": [
    {
     "name": "stdout",
     "output_type": "stream",
     "text": [
      "Collecting xlrd\n",
      "  Obtaining dependency information for xlrd from https://files.pythonhosted.org/packages/a6/0c/c2a72d51fe56e08a08acc85d13013558a2d793028ae7385448a6ccdfae64/xlrd-2.0.1-py2.py3-none-any.whl.metadata\n",
      "  Downloading xlrd-2.0.1-py2.py3-none-any.whl.metadata (3.4 kB)\n",
      "Downloading xlrd-2.0.1-py2.py3-none-any.whl (96 kB)\n",
      "   ---------------------------------------- 0.0/96.5 kB ? eta -:--:--\n",
      "   ------------ --------------------------- 30.7/96.5 kB ? eta -:--:--\n",
      "   -------------------------------------- - 92.2/96.5 kB 1.1 MB/s eta 0:00:01\n",
      "   ---------------------------------------- 96.5/96.5 kB 690.3 kB/s eta 0:00:00\n",
      "Installing collected packages: xlrd\n",
      "Successfully installed xlrd-2.0.1\n",
      "Note: you may need to restart the kernel to use updated packages.\n"
     ]
    }
   ],
   "source": [
    "pip install xlrd"
   ]
  },
  {
   "cell_type": "code",
   "execution_count": 15,
   "id": "5f04bebb-2583-4d1d-a17d-d59e5c6fc3f6",
   "metadata": {},
   "outputs": [
    {
     "name": "stdout",
     "output_type": "stream",
     "text": [
      "          İsim Cinsiyet  Yaş  Saat\n",
      "0        Melih    Erkek   37     4\n",
      "1        Kübra    Kadın   36     3\n",
      "2        Büşra    Kadın   33     5\n",
      "3       Kürşat    Erkek   28     2\n",
      "4       Gülnur    Kadın   27     6\n",
      "5        Feyzi    Erkek   25     1\n",
      "6         Esra    Kadın   25     3\n",
      "7        Zişan    Kadın   21     2\n",
      "8      Mustafa    Erkek   19     4\n",
      "9       Zeynep    Kadın   16     7\n",
      "10  Hayrunnisa    Kadın   14     4\n"
     ]
    }
   ],
   "source": [
    "import pandas as pd\n",
    "df = pd.read_excel(r\"C:\\Users\\sakin\\OneDrive\\Masaüstü\\OMÜ YL\\Veri Bilimi\\ÖDEV\\kuzenler.xlsx\")\n",
    "print(df)"
   ]
  },
  {
   "cell_type": "code",
   "execution_count": 19,
   "id": "428546ea-cc37-4d7a-a43d-0e8b092d9be8",
   "metadata": {},
   "outputs": [
    {
     "data": {
      "text/html": [
       "<div>\n",
       "<style scoped>\n",
       "    .dataframe tbody tr th:only-of-type {\n",
       "        vertical-align: middle;\n",
       "    }\n",
       "\n",
       "    .dataframe tbody tr th {\n",
       "        vertical-align: top;\n",
       "    }\n",
       "\n",
       "    .dataframe thead th {\n",
       "        text-align: right;\n",
       "    }\n",
       "</style>\n",
       "<table border=\"1\" class=\"dataframe\">\n",
       "  <thead>\n",
       "    <tr style=\"text-align: right;\">\n",
       "      <th></th>\n",
       "      <th>İsim</th>\n",
       "      <th>Cinsiyet</th>\n",
       "      <th>Yaş</th>\n",
       "      <th>Saat</th>\n",
       "    </tr>\n",
       "  </thead>\n",
       "  <tbody>\n",
       "    <tr>\n",
       "      <th>0</th>\n",
       "      <td>Melih</td>\n",
       "      <td>Erkek</td>\n",
       "      <td>37</td>\n",
       "      <td>4</td>\n",
       "    </tr>\n",
       "    <tr>\n",
       "      <th>1</th>\n",
       "      <td>Kübra</td>\n",
       "      <td>Kadın</td>\n",
       "      <td>36</td>\n",
       "      <td>3</td>\n",
       "    </tr>\n",
       "    <tr>\n",
       "      <th>2</th>\n",
       "      <td>Büşra</td>\n",
       "      <td>Kadın</td>\n",
       "      <td>33</td>\n",
       "      <td>5</td>\n",
       "    </tr>\n",
       "    <tr>\n",
       "      <th>3</th>\n",
       "      <td>Kürşat</td>\n",
       "      <td>Erkek</td>\n",
       "      <td>28</td>\n",
       "      <td>2</td>\n",
       "    </tr>\n",
       "    <tr>\n",
       "      <th>4</th>\n",
       "      <td>Gülnur</td>\n",
       "      <td>Kadın</td>\n",
       "      <td>27</td>\n",
       "      <td>6</td>\n",
       "    </tr>\n",
       "    <tr>\n",
       "      <th>5</th>\n",
       "      <td>Feyzi</td>\n",
       "      <td>Erkek</td>\n",
       "      <td>25</td>\n",
       "      <td>1</td>\n",
       "    </tr>\n",
       "    <tr>\n",
       "      <th>6</th>\n",
       "      <td>Esra</td>\n",
       "      <td>Kadın</td>\n",
       "      <td>25</td>\n",
       "      <td>3</td>\n",
       "    </tr>\n",
       "    <tr>\n",
       "      <th>7</th>\n",
       "      <td>Zişan</td>\n",
       "      <td>Kadın</td>\n",
       "      <td>21</td>\n",
       "      <td>2</td>\n",
       "    </tr>\n",
       "    <tr>\n",
       "      <th>8</th>\n",
       "      <td>Mustafa</td>\n",
       "      <td>Erkek</td>\n",
       "      <td>19</td>\n",
       "      <td>4</td>\n",
       "    </tr>\n",
       "    <tr>\n",
       "      <th>9</th>\n",
       "      <td>Zeynep</td>\n",
       "      <td>Kadın</td>\n",
       "      <td>16</td>\n",
       "      <td>7</td>\n",
       "    </tr>\n",
       "    <tr>\n",
       "      <th>10</th>\n",
       "      <td>Hayrunnisa</td>\n",
       "      <td>Kadın</td>\n",
       "      <td>14</td>\n",
       "      <td>4</td>\n",
       "    </tr>\n",
       "  </tbody>\n",
       "</table>\n",
       "</div>"
      ],
      "text/plain": [
       "          İsim Cinsiyet  Yaş  Saat\n",
       "0        Melih    Erkek   37     4\n",
       "1        Kübra    Kadın   36     3\n",
       "2        Büşra    Kadın   33     5\n",
       "3       Kürşat    Erkek   28     2\n",
       "4       Gülnur    Kadın   27     6\n",
       "5        Feyzi    Erkek   25     1\n",
       "6         Esra    Kadın   25     3\n",
       "7        Zişan    Kadın   21     2\n",
       "8      Mustafa    Erkek   19     4\n",
       "9       Zeynep    Kadın   16     7\n",
       "10  Hayrunnisa    Kadın   14     4"
      ]
     },
     "execution_count": 19,
     "metadata": {},
     "output_type": "execute_result"
    }
   ],
   "source": [
    "import pandas as pd\n",
    "import numpy as np\n",
    "df= {\n",
    "    \"İsim\":[\"Melih\",\"Kübra\",\"Büşra\",\"Kürşat\",\"Gülnur\",\"Feyzi\",\"Esra\",\"Zişan\",\"Mustafa\",\"Zeynep\",\"Hayrunnisa\"],\n",
    "    \"Cinsiyet\":[\"Erkek\",\"Kadın\",\"Kadın\",\"Erkek\",\"Kadın\",\"Erkek\",\"Kadın\",\"Kadın\",\"Erkek\",\"Kadın\",\"Kadın\"],\n",
    "    \"Yaş\":[37,36,33,28,27,25,25,21,19,16,14], \"Saat\":[4,3,5,2,6,1,3,2,4,7,4]}\n",
    "df=pd.DataFrame(df)\n",
    "df"
   ]
  },
  {
   "cell_type": "code",
   "execution_count": 21,
   "id": "309ac0fa-9e1a-4f34-98cd-9344ebeabd76",
   "metadata": {},
   "outputs": [
    {
     "name": "stderr",
     "output_type": "stream",
     "text": [
      "C:\\Users\\sakin\\AppData\\Local\\Temp\\ipykernel_9716\\3698961737.py:1: FutureWarning: The default value of numeric_only in DataFrame.mean is deprecated. In a future version, it will default to False. In addition, specifying 'numeric_only=None' is deprecated. Select only valid columns or specify the value of numeric_only to silence this warning.\n",
      "  df.mean()\n"
     ]
    },
    {
     "data": {
      "text/plain": [
       "Yaş     25.545455\n",
       "Saat     3.727273\n",
       "dtype: float64"
      ]
     },
     "execution_count": 21,
     "metadata": {},
     "output_type": "execute_result"
    }
   ],
   "source": [
    "df.mean() # veri çerçevesindeki verilerin ortalaması"
   ]
  },
  {
   "cell_type": "code",
   "execution_count": 23,
   "id": "ae135996-60c5-4126-8c5d-1c4d88ad3e08",
   "metadata": {},
   "outputs": [
    {
     "name": "stderr",
     "output_type": "stream",
     "text": [
      "C:\\Users\\sakin\\AppData\\Local\\Temp\\ipykernel_9716\\2657802244.py:1: FutureWarning: The default value of numeric_only in DataFrame.mean is deprecated. In a future version, it will default to False. In addition, specifying 'numeric_only=None' is deprecated. Select only valid columns or specify the value of numeric_only to silence this warning.\n",
      "  df. mean(axis=0) # sütun ortalamaları\n"
     ]
    },
    {
     "data": {
      "text/plain": [
       "Yaş     25.545455\n",
       "Saat     3.727273\n",
       "dtype: float64"
      ]
     },
     "execution_count": 23,
     "metadata": {},
     "output_type": "execute_result"
    }
   ],
   "source": [
    "df.mean(axis=0) # sütun ortalamaları"
   ]
  },
  {
   "cell_type": "code",
   "execution_count": 25,
   "id": "c69b7b17-99eb-47a8-b4fe-cad003ee21a5",
   "metadata": {},
   "outputs": [
    {
     "name": "stderr",
     "output_type": "stream",
     "text": [
      "C:\\Users\\sakin\\AppData\\Local\\Temp\\ipykernel_9716\\3676274908.py:1: FutureWarning: Dropping of nuisance columns in DataFrame reductions (with 'numeric_only=None') is deprecated; in a future version this will raise TypeError.  Select only valid columns before calling the reduction.\n",
      "  df.mean(axis=1)\n"
     ]
    },
    {
     "data": {
      "text/plain": [
       "0     20.5\n",
       "1     19.5\n",
       "2     19.0\n",
       "3     15.0\n",
       "4     16.5\n",
       "5     13.0\n",
       "6     14.0\n",
       "7     11.5\n",
       "8     11.5\n",
       "9     11.5\n",
       "10     9.0\n",
       "dtype: float64"
      ]
     },
     "execution_count": 25,
     "metadata": {},
     "output_type": "execute_result"
    }
   ],
   "source": [
    "df.mean(axis=1) # satır ortalamaları (yaş ve saat ortalaması)"
   ]
  },
  {
   "cell_type": "code",
   "execution_count": 27,
   "id": "3d1b6a44-297d-4218-b672-d7cd36e8a9d6",
   "metadata": {},
   "outputs": [
    {
     "data": {
      "text/plain": [
       "3.727272727272727"
      ]
     },
     "execution_count": 27,
     "metadata": {},
     "output_type": "execute_result"
    }
   ],
   "source": [
    "#SAAT DEĞİŞKENİNİN ORTALAMASI\n",
    "df.loc[:,\"Saat\"].mean()"
   ]
  },
  {
   "cell_type": "code",
   "execution_count": 29,
   "id": "2c00236e-cb62-4952-bb43-f95fffd0409a",
   "metadata": {},
   "outputs": [
    {
     "data": {
      "text/plain": [
       "<bound method NDFrame._add_numeric_operations.<locals>.mean of 0     37\n",
       "1     36\n",
       "2     33\n",
       "3     28\n",
       "4     27\n",
       "5     25\n",
       "6     25\n",
       "7     21\n",
       "8     19\n",
       "9     16\n",
       "10    14\n",
       "Name: Yaş, dtype: int64>"
      ]
     },
     "execution_count": 29,
     "metadata": {},
     "output_type": "execute_result"
    }
   ],
   "source": [
    "#Belirli bir sütunun ortalaması\n",
    "df.loc[:,\"Yaş\"].mean"
   ]
  },
  {
   "cell_type": "code",
   "execution_count": 31,
   "id": "d08f739a-e9e3-48b8-a20f-4c25bcd623de",
   "metadata": {},
   "outputs": [],
   "source": [
    "#Geometrik Ortalama"
   ]
  },
  {
   "cell_type": "code",
   "execution_count": 35,
   "id": "e705d621-0bdb-4211-bd4b-79d1dab5f59d",
   "metadata": {},
   "outputs": [
    {
     "name": "stdout",
     "output_type": "stream",
     "text": [
      "7.099228013753606\n"
     ]
    }
   ],
   "source": [
    "#(3,11,9,5,6,6,17) sayılarının geometrik ortalamasını hesaplama\n",
    "from scipy import stats\n",
    "print(stats.gmean([3,11,9,5,6,6,17]))"
   ]
  },
  {
   "cell_type": "code",
   "execution_count": 41,
   "id": "e2237635-2c28-4558-869f-d2c6cfa7d97b",
   "metadata": {},
   "outputs": [
    {
     "name": "stdout",
     "output_type": "stream",
     "text": [
      "          İsim Cinsiyet  Yaş  Saat\n",
      "0        Melih    Erkek   37     4\n",
      "1        Kübra    Kadın   36     3\n",
      "2        Büşra    Kadın   33     5\n",
      "3       Kürşat    Erkek   28     2\n",
      "4       Gülnur    Kadın   27     6\n",
      "5        Feyzi    Erkek   25     1\n",
      "6         Esra    Kadın   25     3\n",
      "7        Zişan    Kadın   21     2\n",
      "8      Mustafa    Erkek   19     4\n",
      "9       Zeynep    Kadın   16     7\n",
      "10  Hayrunnisa    Kadın   14     4\n"
     ]
    },
    {
     "data": {
      "text/plain": [
       "array([24.43758374,  3.28693465])"
      ]
     },
     "execution_count": 41,
     "metadata": {},
     "output_type": "execute_result"
    }
   ],
   "source": [
    "#Veri çerçevesinin belirli sütunlarının geometrik ortalamasını hesaplama\n",
    "import pandas as pd\n",
    "import numpy as np\n",
    "from scipy import stats\n",
    "df = pd.read_excel(r\"C:\\Users\\sakin\\OneDrive\\Masaüstü\\OMÜ YL\\Veri Bilimi\\ÖDEV\\kuzenler.xlsx\")\n",
    "print(df)\n",
    "from scipy import stats\n",
    "stats.gmean(df.iloc[:,2:4],axis=0)"
   ]
  },
  {
   "cell_type": "code",
   "execution_count": 45,
   "id": "c6ccb9bf-fabd-4108-803a-fb4196bde1be",
   "metadata": {},
   "outputs": [
    {
     "data": {
      "text/plain": [
       "array([12.16552506, 10.39230485, 12.84523258,  7.48331477, 12.72792206,\n",
       "        5.        ,  8.66025404,  6.4807407 ,  8.71779789, 10.58300524,\n",
       "        7.48331477])"
      ]
     },
     "execution_count": 45,
     "metadata": {},
     "output_type": "execute_result"
    }
   ],
   "source": [
    "stats.gmean(df.iloc[:,2:4],axis=1)"
   ]
  },
  {
   "cell_type": "code",
   "execution_count": 47,
   "id": "77038ea3-064a-498a-9802-5c67f145e64c",
   "metadata": {},
   "outputs": [
    {
     "data": {
      "text/plain": [
       "24.437583736406268"
      ]
     },
     "execution_count": 47,
     "metadata": {},
     "output_type": "execute_result"
    }
   ],
   "source": [
    "stats.gmean(df.loc[:,\"Yaş\"])"
   ]
  },
  {
   "cell_type": "code",
   "execution_count": 49,
   "id": "a5a16753-e823-41aa-bbd1-6e02d5728868",
   "metadata": {},
   "outputs": [],
   "source": [
    "#Harmonik Ortalama"
   ]
  },
  {
   "cell_type": "code",
   "execution_count": 53,
   "id": "84b92b51-38c3-449b-a425-50393c4d0606",
   "metadata": {},
   "outputs": [
    {
     "name": "stdout",
     "output_type": "stream",
     "text": [
      "7.380682952805698\n"
     ]
    }
   ],
   "source": [
    "print(stats.hmean([4,11,15,16,5,7]))"
   ]
  },
  {
   "cell_type": "raw",
   "id": "205ff6c8-871a-4aab-b015-77a48c602e96",
   "metadata": {},
   "source": [
    "import pandas as pd\n",
    "import numpy as np\n",
    "df= {\n",
    "    \"İsim\":[\"Melih\",\"Kübra\",\"Büşra\",\"Kürşat\",\"Gülnur\",\"Feyzi\",\"Esra\",\"Zişan\",\"Mustafa\",\"Zeynep\",\"Hayrunnisa\"],\n",
    "    \"Cinsiyet\":[\"Erkek\",\"Kadın\",\"Kadın\",\"Erkek\",\"Kadın\",\"Erkek\",\"Kadın\",\"Kadın\",\"Erkek\",\"Kadın\",\"Kadın\"],\n",
    "    \"Yaş\":[37,36,33,28,27,25,25,21,19,16,14], \"Saat\":[4,3,5,2,6,1,3,2,4,7,4]}\n",
    "df=pd.DataFrame(df)\n",
    "df"
   ]
  },
  {
   "cell_type": "code",
   "execution_count": 55,
   "id": "70d83ce6-2a69-43e1-94cf-30e51f0bf3b6",
   "metadata": {},
   "outputs": [
    {
     "data": {
      "text/plain": [
       "array([23.30319107,  2.801698  ])"
      ]
     },
     "execution_count": 55,
     "metadata": {},
     "output_type": "execute_result"
    }
   ],
   "source": [
    "from scipy import stats\n",
    "stats.hmean(df.iloc[:,2:4],axis=0)"
   ]
  },
  {
   "cell_type": "code",
   "execution_count": 61,
   "id": "83f2c0d2-7354-4be5-907b-d040b9a9de64",
   "metadata": {},
   "outputs": [
    {
     "data": {
      "text/plain": [
       "array([7.2195122 , 5.53846154, 8.68421053, 3.73333333, 9.81818182,\n",
       "       1.92307692, 5.35714286, 3.65217391, 6.60869565, 9.73913043,\n",
       "       6.22222222])"
      ]
     },
     "execution_count": 61,
     "metadata": {},
     "output_type": "execute_result"
    }
   ],
   "source": [
    "stats.hmean(df.iloc[:,2:4],axis=1)"
   ]
  },
  {
   "cell_type": "code",
   "execution_count": 63,
   "id": "c5ecac9c-ffb7-4053-9418-6d56aefac397",
   "metadata": {},
   "outputs": [],
   "source": [
    "# Medyan"
   ]
  },
  {
   "cell_type": "code",
   "execution_count": 65,
   "id": "27f08343-1e04-4c0a-a0e3-0422bba845a0",
   "metadata": {},
   "outputs": [
    {
     "name": "stderr",
     "output_type": "stream",
     "text": [
      "C:\\Users\\sakin\\AppData\\Local\\Temp\\ipykernel_9716\\2440493896.py:9: FutureWarning: The default value of numeric_only in DataFrame.mean is deprecated. In a future version, it will default to False. In addition, specifying 'numeric_only=None' is deprecated. Select only valid columns or specify the value of numeric_only to silence this warning.\n",
      "  df.mean()\n"
     ]
    },
    {
     "data": {
      "text/plain": [
       "Yaş     25.545455\n",
       "Saat     3.727273\n",
       "dtype: float64"
      ]
     },
     "execution_count": 65,
     "metadata": {},
     "output_type": "execute_result"
    }
   ],
   "source": [
    "import pandas as pd\n",
    "import numpy as np\n",
    "df= {\n",
    "    \"İsim\":[\"Melih\",\"Kübra\",\"Büşra\",\"Kürşat\",\"Gülnur\",\"Feyzi\",\"Esra\",\"Zişan\",\"Mustafa\",\"Zeynep\",\"Hayrunnisa\"],\n",
    "    \"Cinsiyet\":[\"Erkek\",\"Kadın\",\"Kadın\",\"Erkek\",\"Kadın\",\"Erkek\",\"Kadın\",\"Kadın\",\"Erkek\",\"Kadın\",\"Kadın\"],\n",
    "    \"Yaş\":[37,36,33,28,27,25,25,21,19,16,14], \"Saat\":[4,3,5,2,6,1,3,2,4,7,4]}\n",
    "df=pd.DataFrame(df)\n",
    "df\n",
    "df.mean()"
   ]
  },
  {
   "cell_type": "code",
   "execution_count": 67,
   "id": "a6a5d0a0-8603-469d-8c55-be0387e5b6c1",
   "metadata": {},
   "outputs": [
    {
     "name": "stderr",
     "output_type": "stream",
     "text": [
      "C:\\Users\\sakin\\AppData\\Local\\Temp\\ipykernel_9716\\3214761434.py:1: FutureWarning: Dropping of nuisance columns in DataFrame reductions (with 'numeric_only=None') is deprecated; in a future version this will raise TypeError.  Select only valid columns before calling the reduction.\n",
      "  df.median(axis=1)\n"
     ]
    },
    {
     "data": {
      "text/plain": [
       "0     20.5\n",
       "1     19.5\n",
       "2     19.0\n",
       "3     15.0\n",
       "4     16.5\n",
       "5     13.0\n",
       "6     14.0\n",
       "7     11.5\n",
       "8     11.5\n",
       "9     11.5\n",
       "10     9.0\n",
       "dtype: float64"
      ]
     },
     "execution_count": 67,
     "metadata": {},
     "output_type": "execute_result"
    }
   ],
   "source": [
    "df.median(axis=1)"
   ]
  },
  {
   "cell_type": "code",
   "execution_count": 69,
   "id": "1ec06309-71c7-40d3-9318-01b303adc25b",
   "metadata": {},
   "outputs": [
    {
     "data": {
      "text/plain": [
       "4.0"
      ]
     },
     "execution_count": 69,
     "metadata": {},
     "output_type": "execute_result"
    }
   ],
   "source": [
    "df.loc[:,\"Saat\"].median()"
   ]
  },
  {
   "cell_type": "code",
   "execution_count": 71,
   "id": "435498fc-b36f-4c03-b85f-1cdfb0a39530",
   "metadata": {},
   "outputs": [
    {
     "data": {
      "text/plain": [
       "25.0"
      ]
     },
     "execution_count": 71,
     "metadata": {},
     "output_type": "execute_result"
    }
   ],
   "source": [
    "df.loc[:,\"Yaş\"].median()"
   ]
  },
  {
   "cell_type": "code",
   "execution_count": null,
   "id": "64355cb3-829e-4f5d-9b18-992761187687",
   "metadata": {},
   "outputs": [],
   "source": [
    "#Mod"
   ]
  },
  {
   "cell_type": "code",
   "execution_count": 77,
   "id": "0097a198-bf68-4e22-8cdd-3787975a9cd4",
   "metadata": {},
   "outputs": [
    {
     "data": {
      "text/html": [
       "<div>\n",
       "<style scoped>\n",
       "    .dataframe tbody tr th:only-of-type {\n",
       "        vertical-align: middle;\n",
       "    }\n",
       "\n",
       "    .dataframe tbody tr th {\n",
       "        vertical-align: top;\n",
       "    }\n",
       "\n",
       "    .dataframe thead th {\n",
       "        text-align: right;\n",
       "    }\n",
       "</style>\n",
       "<table border=\"1\" class=\"dataframe\">\n",
       "  <thead>\n",
       "    <tr style=\"text-align: right;\">\n",
       "      <th></th>\n",
       "      <th>İsim</th>\n",
       "      <th>Cinsiyet</th>\n",
       "      <th>Yaş</th>\n",
       "      <th>Saat</th>\n",
       "    </tr>\n",
       "  </thead>\n",
       "  <tbody>\n",
       "    <tr>\n",
       "      <th>0</th>\n",
       "      <td>Büşra</td>\n",
       "      <td>Kadın</td>\n",
       "      <td>25.0</td>\n",
       "      <td>4.0</td>\n",
       "    </tr>\n",
       "    <tr>\n",
       "      <th>1</th>\n",
       "      <td>Esra</td>\n",
       "      <td>NaN</td>\n",
       "      <td>NaN</td>\n",
       "      <td>NaN</td>\n",
       "    </tr>\n",
       "    <tr>\n",
       "      <th>2</th>\n",
       "      <td>Feyzi</td>\n",
       "      <td>NaN</td>\n",
       "      <td>NaN</td>\n",
       "      <td>NaN</td>\n",
       "    </tr>\n",
       "    <tr>\n",
       "      <th>3</th>\n",
       "      <td>Gülnur</td>\n",
       "      <td>NaN</td>\n",
       "      <td>NaN</td>\n",
       "      <td>NaN</td>\n",
       "    </tr>\n",
       "    <tr>\n",
       "      <th>4</th>\n",
       "      <td>Hayrunnisa</td>\n",
       "      <td>NaN</td>\n",
       "      <td>NaN</td>\n",
       "      <td>NaN</td>\n",
       "    </tr>\n",
       "    <tr>\n",
       "      <th>5</th>\n",
       "      <td>Kübra</td>\n",
       "      <td>NaN</td>\n",
       "      <td>NaN</td>\n",
       "      <td>NaN</td>\n",
       "    </tr>\n",
       "    <tr>\n",
       "      <th>6</th>\n",
       "      <td>Kürşat</td>\n",
       "      <td>NaN</td>\n",
       "      <td>NaN</td>\n",
       "      <td>NaN</td>\n",
       "    </tr>\n",
       "    <tr>\n",
       "      <th>7</th>\n",
       "      <td>Melih</td>\n",
       "      <td>NaN</td>\n",
       "      <td>NaN</td>\n",
       "      <td>NaN</td>\n",
       "    </tr>\n",
       "    <tr>\n",
       "      <th>8</th>\n",
       "      <td>Mustafa</td>\n",
       "      <td>NaN</td>\n",
       "      <td>NaN</td>\n",
       "      <td>NaN</td>\n",
       "    </tr>\n",
       "    <tr>\n",
       "      <th>9</th>\n",
       "      <td>Zeynep</td>\n",
       "      <td>NaN</td>\n",
       "      <td>NaN</td>\n",
       "      <td>NaN</td>\n",
       "    </tr>\n",
       "    <tr>\n",
       "      <th>10</th>\n",
       "      <td>Zişan</td>\n",
       "      <td>NaN</td>\n",
       "      <td>NaN</td>\n",
       "      <td>NaN</td>\n",
       "    </tr>\n",
       "  </tbody>\n",
       "</table>\n",
       "</div>"
      ],
      "text/plain": [
       "          İsim Cinsiyet   Yaş  Saat\n",
       "0        Büşra    Kadın  25.0   4.0\n",
       "1         Esra      NaN   NaN   NaN\n",
       "2        Feyzi      NaN   NaN   NaN\n",
       "3       Gülnur      NaN   NaN   NaN\n",
       "4   Hayrunnisa      NaN   NaN   NaN\n",
       "5        Kübra      NaN   NaN   NaN\n",
       "6       Kürşat      NaN   NaN   NaN\n",
       "7        Melih      NaN   NaN   NaN\n",
       "8      Mustafa      NaN   NaN   NaN\n",
       "9       Zeynep      NaN   NaN   NaN\n",
       "10       Zişan      NaN   NaN   NaN"
      ]
     },
     "execution_count": 77,
     "metadata": {},
     "output_type": "execute_result"
    }
   ],
   "source": [
    "df.mode()"
   ]
  },
  {
   "cell_type": "code",
   "execution_count": 79,
   "id": "d509771b-c2d7-463c-a55c-69fd6c51bd44",
   "metadata": {},
   "outputs": [
    {
     "data": {
      "text/plain": [
       "0    25\n",
       "Name: Yaş, dtype: int64"
      ]
     },
     "execution_count": 79,
     "metadata": {},
     "output_type": "execute_result"
    }
   ],
   "source": [
    "df.loc[:,\"Yaş\"].mode()"
   ]
  },
  {
   "cell_type": "code",
   "execution_count": 81,
   "id": "bab5af5b-afc2-4bc7-97b1-1ede199850a3",
   "metadata": {},
   "outputs": [
    {
     "data": {
      "text/plain": [
       "<bound method Series.mode of 0     4\n",
       "1     3\n",
       "2     5\n",
       "3     2\n",
       "4     6\n",
       "5     1\n",
       "6     3\n",
       "7     2\n",
       "8     4\n",
       "9     7\n",
       "10    4\n",
       "Name: Saat, dtype: int64>"
      ]
     },
     "execution_count": 81,
     "metadata": {},
     "output_type": "execute_result"
    }
   ],
   "source": [
    "df.loc[:,\"Saat\"].mode()"
   ]
  },
  {
   "cell_type": "code",
   "execution_count": 83,
   "id": "a0a03bb1-a3a5-4754-95a3-507fa9605426",
   "metadata": {},
   "outputs": [
    {
     "data": {
      "text/plain": [
       "0    Kadın\n",
       "Name: Cinsiyet, dtype: object"
      ]
     },
     "execution_count": 83,
     "metadata": {},
     "output_type": "execute_result"
    }
   ],
   "source": [
    "df.loc[:,\"Cinsiyet\"].mode()"
   ]
  },
  {
   "cell_type": "code",
   "execution_count": 85,
   "id": "a099eea7-55ed-4e42-a995-45ef5fe08f51",
   "metadata": {},
   "outputs": [],
   "source": [
    "# Kartiller"
   ]
  },
  {
   "cell_type": "code",
   "execution_count": 87,
   "id": "cee0417a-f227-4b88-9c65-1bacaacc6be2",
   "metadata": {},
   "outputs": [
    {
     "name": "stderr",
     "output_type": "stream",
     "text": [
      "C:\\Users\\sakin\\AppData\\Local\\Temp\\ipykernel_9716\\1407141079.py:1: FutureWarning: The default value of numeric_only in DataFrame.quantile is deprecated. In a future version, it will default to False. Select only valid columns or specify the value of numeric_only to silence this warning.\n",
      "  df.quantile()\n"
     ]
    },
    {
     "data": {
      "text/plain": [
       "Yaş     25.0\n",
       "Saat     4.0\n",
       "Name: 0.5, dtype: float64"
      ]
     },
     "execution_count": 87,
     "metadata": {},
     "output_type": "execute_result"
    }
   ],
   "source": [
    "df.quantile()"
   ]
  },
  {
   "cell_type": "code",
   "execution_count": 89,
   "id": "64a1fcaa-239e-4a47-9a53-ecfd7b5ad6d4",
   "metadata": {},
   "outputs": [
    {
     "name": "stderr",
     "output_type": "stream",
     "text": [
      "C:\\Users\\sakin\\AppData\\Local\\Temp\\ipykernel_9716\\493109538.py:1: FutureWarning: The default value of numeric_only in DataFrame.quantile is deprecated. In a future version, it will default to False. Select only valid columns or specify the value of numeric_only to silence this warning.\n",
      "  df.quantile(.25)\n"
     ]
    },
    {
     "data": {
      "text/plain": [
       "Yaş     20.0\n",
       "Saat     2.5\n",
       "Name: 0.25, dtype: float64"
      ]
     },
     "execution_count": 89,
     "metadata": {},
     "output_type": "execute_result"
    }
   ],
   "source": [
    "df.quantile(.25)"
   ]
  },
  {
   "cell_type": "code",
   "execution_count": 91,
   "id": "f56a612f-7ec8-4d77-942c-45ad3d9fa543",
   "metadata": {},
   "outputs": [
    {
     "name": "stderr",
     "output_type": "stream",
     "text": [
      "C:\\Users\\sakin\\AppData\\Local\\Temp\\ipykernel_9716\\3289849985.py:1: FutureWarning: The default value of numeric_only in DataFrame.quantile is deprecated. In a future version, it will default to False. Select only valid columns or specify the value of numeric_only to silence this warning.\n",
      "  df.quantile(.75)\n"
     ]
    },
    {
     "data": {
      "text/plain": [
       "Yaş     30.5\n",
       "Saat     4.5\n",
       "Name: 0.75, dtype: float64"
      ]
     },
     "execution_count": 91,
     "metadata": {},
     "output_type": "execute_result"
    }
   ],
   "source": [
    "df.quantile(.75)"
   ]
  },
  {
   "cell_type": "code",
   "execution_count": 93,
   "id": "3951717a-1c6e-4b88-8b47-7bde4c2a1b25",
   "metadata": {},
   "outputs": [
    {
     "name": "stderr",
     "output_type": "stream",
     "text": [
      "C:\\Users\\sakin\\AppData\\Local\\Temp\\ipykernel_9716\\3430475897.py:1: FutureWarning: The default value of numeric_only in DataFrame.quantile is deprecated. In a future version, it will default to False. Select only valid columns or specify the value of numeric_only to silence this warning.\n",
      "  df.quantile(.1)\n"
     ]
    },
    {
     "data": {
      "text/plain": [
       "Yaş     16.0\n",
       "Saat     2.0\n",
       "Name: 0.1, dtype: float64"
      ]
     },
     "execution_count": 93,
     "metadata": {},
     "output_type": "execute_result"
    }
   ],
   "source": [
    "df.quantile(.1)"
   ]
  },
  {
   "cell_type": "code",
   "execution_count": 95,
   "id": "ac6c4b15-8878-4bbb-a7c8-a69972c99aa7",
   "metadata": {},
   "outputs": [
    {
     "name": "stderr",
     "output_type": "stream",
     "text": [
      "C:\\Users\\sakin\\AppData\\Local\\Temp\\ipykernel_9716\\4069167805.py:1: FutureWarning: The default value of numeric_only in DataFrame.quantile is deprecated. In a future version, it will default to False. Select only valid columns or specify the value of numeric_only to silence this warning.\n",
      "  df.quantile(.99)\n"
     ]
    },
    {
     "data": {
      "text/plain": [
       "Yaş     36.9\n",
       "Saat     6.9\n",
       "Name: 0.99, dtype: float64"
      ]
     },
     "execution_count": 95,
     "metadata": {},
     "output_type": "execute_result"
    }
   ],
   "source": [
    "df.quantile(.99)"
   ]
  },
  {
   "cell_type": "code",
   "execution_count": 99,
   "id": "c67070ca-65f9-4119-a8dd-b5682c5ce085",
   "metadata": {},
   "outputs": [],
   "source": [
    "import numpy as np"
   ]
  },
  {
   "cell_type": "code",
   "execution_count": 101,
   "id": "32696347-ccfd-4fc3-9f7f-065170088122",
   "metadata": {},
   "outputs": [
    {
     "data": {
      "text/plain": [
       "6"
      ]
     },
     "execution_count": 101,
     "metadata": {},
     "output_type": "execute_result"
    }
   ],
   "source": [
    "np.ptp(df[\"Saat\"])"
   ]
  },
  {
   "cell_type": "code",
   "execution_count": 103,
   "id": "d8234c2f-e4ec-4535-b81b-b9a1d6c9b1da",
   "metadata": {},
   "outputs": [
    {
     "data": {
      "text/plain": [
       "23"
      ]
     },
     "execution_count": 103,
     "metadata": {},
     "output_type": "execute_result"
    }
   ],
   "source": [
    "np.ptp(df[\"Yaş\"])"
   ]
  },
  {
   "cell_type": "code",
   "execution_count": 105,
   "id": "82103374-cf63-4f17-a156-5f298efd0820",
   "metadata": {},
   "outputs": [
    {
     "data": {
      "text/plain": [
       "İsim        Zişan\n",
       "Cinsiyet    Kadın\n",
       "Yaş            37\n",
       "Saat            7\n",
       "dtype: object"
      ]
     },
     "execution_count": 105,
     "metadata": {},
     "output_type": "execute_result"
    }
   ],
   "source": [
    "df.max()"
   ]
  },
  {
   "cell_type": "code",
   "execution_count": 107,
   "id": "2599e9f3-a8d8-4d39-8141-2a22204659ae",
   "metadata": {},
   "outputs": [
    {
     "data": {
      "text/plain": [
       "<bound method NDFrame._add_numeric_operations.<locals>.min of           İsim Cinsiyet  Yaş  Saat\n",
       "0        Melih    Erkek   37     4\n",
       "1        Kübra    Kadın   36     3\n",
       "2        Büşra    Kadın   33     5\n",
       "3       Kürşat    Erkek   28     2\n",
       "4       Gülnur    Kadın   27     6\n",
       "5        Feyzi    Erkek   25     1\n",
       "6         Esra    Kadın   25     3\n",
       "7        Zişan    Kadın   21     2\n",
       "8      Mustafa    Erkek   19     4\n",
       "9       Zeynep    Kadın   16     7\n",
       "10  Hayrunnisa    Kadın   14     4>"
      ]
     },
     "execution_count": 107,
     "metadata": {},
     "output_type": "execute_result"
    }
   ],
   "source": [
    "df.min()"
   ]
  },
  {
   "cell_type": "code",
   "execution_count": 109,
   "id": "8b5661bc-981f-4fd6-89a8-69bd4149ff49",
   "metadata": {},
   "outputs": [
    {
     "data": {
      "text/plain": [
       "İsim        Melih\n",
       "Cinsiyet    Erkek\n",
       "Yaş            37\n",
       "Saat            4\n",
       "Name: 0, dtype: object"
      ]
     },
     "execution_count": 109,
     "metadata": {},
     "output_type": "execute_result"
    }
   ],
   "source": [
    "# YAŞA GÖRE MAX DEĞERE SAHİP SATIRI BULMA\n",
    "df.loc[df[\"Yaş\"].idxmax()]"
   ]
  },
  {
   "cell_type": "code",
   "execution_count": 115,
   "id": "4ca9dd33-f490-4814-8398-112e8d37b657",
   "metadata": {},
   "outputs": [
    {
     "data": {
      "text/html": [
       "<div>\n",
       "<style scoped>\n",
       "    .dataframe tbody tr th:only-of-type {\n",
       "        vertical-align: middle;\n",
       "    }\n",
       "\n",
       "    .dataframe tbody tr th {\n",
       "        vertical-align: top;\n",
       "    }\n",
       "\n",
       "    .dataframe thead th {\n",
       "        text-align: right;\n",
       "    }\n",
       "</style>\n",
       "<table border=\"1\" class=\"dataframe\">\n",
       "  <thead>\n",
       "    <tr style=\"text-align: right;\">\n",
       "      <th></th>\n",
       "      <th>İsim</th>\n",
       "      <th>Cinsiyet</th>\n",
       "      <th>Yaş</th>\n",
       "      <th>Saat</th>\n",
       "    </tr>\n",
       "  </thead>\n",
       "  <tbody>\n",
       "    <tr>\n",
       "      <th>0</th>\n",
       "      <td>Melih</td>\n",
       "      <td>Erkek</td>\n",
       "      <td>37</td>\n",
       "      <td>4</td>\n",
       "    </tr>\n",
       "    <tr>\n",
       "      <th>1</th>\n",
       "      <td>Kübra</td>\n",
       "      <td>Kadın</td>\n",
       "      <td>36</td>\n",
       "      <td>3</td>\n",
       "    </tr>\n",
       "    <tr>\n",
       "      <th>2</th>\n",
       "      <td>Büşra</td>\n",
       "      <td>Kadın</td>\n",
       "      <td>33</td>\n",
       "      <td>5</td>\n",
       "    </tr>\n",
       "  </tbody>\n",
       "</table>\n",
       "</div>"
      ],
      "text/plain": [
       "    İsim Cinsiyet  Yaş  Saat\n",
       "0  Melih    Erkek   37     4\n",
       "1  Kübra    Kadın   36     3\n",
       "2  Büşra    Kadın   33     5"
      ]
     },
     "execution_count": 115,
     "metadata": {},
     "output_type": "execute_result"
    }
   ],
   "source": [
    "# MAX YAŞA SAHİP ÜÇ SATIRI BULMA\n",
    "df.nlargest(3,\"Yaş\")"
   ]
  },
  {
   "cell_type": "code",
   "execution_count": 117,
   "id": "5ad65621-2b71-4de6-9c9c-7201b79d742a",
   "metadata": {},
   "outputs": [],
   "source": [
    "# Kartiller Arası Fark"
   ]
  },
  {
   "cell_type": "code",
   "execution_count": 119,
   "id": "7bf5c6dc-52a8-474f-8355-9e9b7dca7d1f",
   "metadata": {},
   "outputs": [
    {
     "data": {
      "text/plain": [
       "10.5"
      ]
     },
     "execution_count": 119,
     "metadata": {},
     "output_type": "execute_result"
    }
   ],
   "source": [
    "from scipy.stats import iqr\n",
    "iqr(df[\"Yaş\"])"
   ]
  },
  {
   "cell_type": "code",
   "execution_count": 121,
   "id": "99c900a7-9d81-4e0c-92b4-a5adf6487832",
   "metadata": {},
   "outputs": [],
   "source": [
    "# Ortalama Sapma"
   ]
  },
  {
   "cell_type": "code",
   "execution_count": 123,
   "id": "fc7d110f-0d4c-45f2-aa42-2bfaa640dade",
   "metadata": {},
   "outputs": [
    {
     "name": "stderr",
     "output_type": "stream",
     "text": [
      "C:\\Users\\sakin\\AppData\\Local\\Temp\\ipykernel_9716\\3844944795.py:1: FutureWarning: The 'mad' method is deprecated and will be removed in a future version. To compute the same result, you may do `(df - df.mean()).abs().mean()`.\n",
      "  df.mad()\n"
     ]
    },
    {
     "data": {
      "text/plain": [
       "Yaş     6.049587\n",
       "Saat    1.388430\n",
       "dtype: float64"
      ]
     },
     "execution_count": 123,
     "metadata": {},
     "output_type": "execute_result"
    }
   ],
   "source": [
    "df.mad()"
   ]
  },
  {
   "cell_type": "code",
   "execution_count": 129,
   "id": "0eba1583-bbd3-47dc-8846-d1ab82a7a4c0",
   "metadata": {},
   "outputs": [],
   "source": [
    "# Varyans Hesaplama"
   ]
  },
  {
   "cell_type": "code",
   "execution_count": 133,
   "id": "30f6e328-4000-43b7-94c3-817fdce1bf5f",
   "metadata": {},
   "outputs": [
    {
     "name": "stdout",
     "output_type": "stream",
     "text": [
      "1180.5\n"
     ]
    }
   ],
   "source": [
    "import numpy as np\n",
    "print(np.var([11,91,5,6,81,71,34,9]))"
   ]
  },
  {
   "cell_type": "code",
   "execution_count": 135,
   "id": "425a446e-9fda-4ae5-8d23-72458fd377f3",
   "metadata": {},
   "outputs": [
    {
     "name": "stderr",
     "output_type": "stream",
     "text": [
      "C:\\Users\\sakin\\AppData\\Local\\Temp\\ipykernel_9716\\1568254755.py:1: FutureWarning: The default value of numeric_only in DataFrame.var is deprecated. In a future version, it will default to False. In addition, specifying 'numeric_only=None' is deprecated. Select only valid columns or specify the value of numeric_only to silence this warning.\n",
      "  df.var()\n"
     ]
    },
    {
     "data": {
      "text/plain": [
       "Yaş     59.272727\n",
       "Saat     3.218182\n",
       "dtype: float64"
      ]
     },
     "execution_count": 135,
     "metadata": {},
     "output_type": "execute_result"
    }
   ],
   "source": [
    "df.var()"
   ]
  },
  {
   "cell_type": "code",
   "execution_count": 137,
   "id": "f21dc28c-cbff-4261-9cae-1e97b2a95453",
   "metadata": {},
   "outputs": [
    {
     "data": {
      "text/plain": [
       "3.218181818181818"
      ]
     },
     "execution_count": 137,
     "metadata": {},
     "output_type": "execute_result"
    }
   ],
   "source": [
    "df.loc[:,\"Saat\"].var()"
   ]
  },
  {
   "cell_type": "code",
   "execution_count": 139,
   "id": "dc7f056d-ac76-4bfe-89ce-49c9de6c4499",
   "metadata": {},
   "outputs": [
    {
     "data": {
      "text/plain": [
       "59.27272727272727"
      ]
     },
     "execution_count": 139,
     "metadata": {},
     "output_type": "execute_result"
    }
   ],
   "source": [
    "df.loc[:,\"Yaş\"].var()"
   ]
  },
  {
   "cell_type": "code",
   "execution_count": 141,
   "id": "bb259d89-cb71-4b9c-b177-d25a772c5227",
   "metadata": {},
   "outputs": [
    {
     "name": "stdout",
     "output_type": "stream",
     "text": [
      "34.35840508521896\n"
     ]
    }
   ],
   "source": [
    "# Standart SapmaHesaplama\n",
    "import numpy as np\n",
    "print(np.std([11,91,5,6,81,71,34,9]))"
   ]
  },
  {
   "cell_type": "code",
   "execution_count": 143,
   "id": "ed97c74b-6242-44de-99d8-19632bedfd26",
   "metadata": {},
   "outputs": [
    {
     "name": "stderr",
     "output_type": "stream",
     "text": [
      "C:\\Users\\sakin\\AppData\\Local\\Temp\\ipykernel_9716\\3390915376.py:1: FutureWarning: The default value of numeric_only in DataFrame.std is deprecated. In a future version, it will default to False. In addition, specifying 'numeric_only=None' is deprecated. Select only valid columns or specify the value of numeric_only to silence this warning.\n",
      "  df.std()\n"
     ]
    },
    {
     "data": {
      "text/plain": [
       "Yaş     7.698878\n",
       "Saat    1.793929\n",
       "dtype: float64"
      ]
     },
     "execution_count": 143,
     "metadata": {},
     "output_type": "execute_result"
    }
   ],
   "source": [
    "df.std()"
   ]
  },
  {
   "cell_type": "code",
   "execution_count": 149,
   "id": "6a6be651-e861-447c-88cc-3ecd3739b6f4",
   "metadata": {},
   "outputs": [
    {
     "data": {
      "text/plain": [
       "7.6988783126327744"
      ]
     },
     "execution_count": 149,
     "metadata": {},
     "output_type": "execute_result"
    }
   ],
   "source": [
    "df.loc[:,\"Yaş\"].std()"
   ]
  },
  {
   "cell_type": "code",
   "execution_count": 151,
   "id": "9428cc57-7231-4886-95e0-ec15c6094b4e",
   "metadata": {},
   "outputs": [
    {
     "data": {
      "text/plain": [
       "1.7939291563999449"
      ]
     },
     "execution_count": 151,
     "metadata": {},
     "output_type": "execute_result"
    }
   ],
   "source": [
    "df.loc[:,\"Saat\"].std()"
   ]
  },
  {
   "cell_type": "code",
   "execution_count": 153,
   "id": "f939bd44-232a-4779-bd9a-5468e40ef4ed",
   "metadata": {},
   "outputs": [],
   "source": [
    "# Standart Hata"
   ]
  },
  {
   "cell_type": "code",
   "execution_count": 155,
   "id": "b766ad76-672d-4cd1-9077-c4c54eecf905",
   "metadata": {},
   "outputs": [
    {
     "name": "stderr",
     "output_type": "stream",
     "text": [
      "C:\\Users\\sakin\\AppData\\Local\\Temp\\ipykernel_9716\\1459226325.py:1: FutureWarning: The default value of numeric_only in DataFrame.sem is deprecated. In a future version, it will default to False. In addition, specifying 'numeric_only=None' is deprecated. Select only valid columns or specify the value of numeric_only to silence this warning.\n",
      "  df.sem()\n"
     ]
    },
    {
     "data": {
      "text/plain": [
       "Yaş     2.321299\n",
       "Saat    0.540890\n",
       "dtype: float64"
      ]
     },
     "execution_count": 155,
     "metadata": {},
     "output_type": "execute_result"
    }
   ],
   "source": [
    "df.sem()"
   ]
  },
  {
   "cell_type": "code",
   "execution_count": 157,
   "id": "37ce524a-4478-4a2b-b7da-e723e7e9751e",
   "metadata": {},
   "outputs": [],
   "source": [
    "# Çarpıklık"
   ]
  },
  {
   "cell_type": "code",
   "execution_count": 159,
   "id": "b328d16a-725b-4b39-b34c-c5aa3713d1d5",
   "metadata": {},
   "outputs": [
    {
     "name": "stderr",
     "output_type": "stream",
     "text": [
      "C:\\Users\\sakin\\AppData\\Local\\Temp\\ipykernel_9716\\1665899112.py:1: FutureWarning: The default value of numeric_only in DataFrame.skew is deprecated. In a future version, it will default to False. In addition, specifying 'numeric_only=None' is deprecated. Select only valid columns or specify the value of numeric_only to silence this warning.\n",
      "  df.skew()\n"
     ]
    },
    {
     "data": {
      "text/plain": [
       "Yaş     0.078823\n",
       "Saat    0.371624\n",
       "dtype: float64"
      ]
     },
     "execution_count": 159,
     "metadata": {},
     "output_type": "execute_result"
    }
   ],
   "source": [
    "df.skew()"
   ]
  },
  {
   "cell_type": "code",
   "execution_count": 161,
   "id": "02919f8f-faa9-4e38-a96b-44fe940e7c4e",
   "metadata": {},
   "outputs": [
    {
     "data": {
      "text/plain": [
       "0.07882326374098676"
      ]
     },
     "execution_count": 161,
     "metadata": {},
     "output_type": "execute_result"
    }
   ],
   "source": [
    "df.loc[:,\"Yaş\"].skew()"
   ]
  },
  {
   "cell_type": "code",
   "execution_count": 163,
   "id": "441ab8ce-50ef-442e-9854-c370fe60a157",
   "metadata": {},
   "outputs": [
    {
     "data": {
      "text/plain": [
       "0.37162374238040335"
      ]
     },
     "execution_count": 163,
     "metadata": {},
     "output_type": "execute_result"
    }
   ],
   "source": [
    "df.loc[:,\"Saat\"].skew()"
   ]
  },
  {
   "cell_type": "code",
   "execution_count": 165,
   "id": "48a296fc-ff6c-4145-9d7f-59398053d8c9",
   "metadata": {},
   "outputs": [],
   "source": [
    "# Basıklık"
   ]
  },
  {
   "cell_type": "code",
   "execution_count": 179,
   "id": "89cb4a18-929d-4d3e-87d3-af77f914e2bb",
   "metadata": {},
   "outputs": [
    {
     "name": "stderr",
     "output_type": "stream",
     "text": [
      "C:\\Users\\sakin\\AppData\\Local\\Temp\\ipykernel_9716\\615572439.py:1: FutureWarning: The default value of numeric_only in DataFrame.kurt is deprecated. In a future version, it will default to False. In addition, specifying 'numeric_only=None' is deprecated. Select only valid columns or specify the value of numeric_only to silence this warning.\n",
      "  df.kurtosis()\n"
     ]
    },
    {
     "data": {
      "text/plain": [
       "Yaş    -1.003167\n",
       "Saat   -0.312490\n",
       "dtype: float64"
      ]
     },
     "execution_count": 179,
     "metadata": {},
     "output_type": "execute_result"
    }
   ],
   "source": [
    "df.kurtosis()"
   ]
  },
  {
   "cell_type": "code",
   "execution_count": 183,
   "id": "0cf81afd-c0a8-4aaa-a844-28f2233889c4",
   "metadata": {},
   "outputs": [
    {
     "data": {
      "text/plain": [
       "-0.3124900252162526"
      ]
     },
     "execution_count": 183,
     "metadata": {},
     "output_type": "execute_result"
    }
   ],
   "source": [
    "df.loc[:,\"Saat\"].kurtosis()"
   ]
  },
  {
   "cell_type": "code",
   "execution_count": 181,
   "id": "c3d42191-b3dc-4913-82bf-b09da5c84ae6",
   "metadata": {},
   "outputs": [
    {
     "data": {
      "text/plain": [
       "-1.0031667544883134"
      ]
     },
     "execution_count": 181,
     "metadata": {},
     "output_type": "execute_result"
    }
   ],
   "source": [
    "df.loc[:,\"Yaş\"].kurtosis()"
   ]
  },
  {
   "cell_type": "code",
   "execution_count": 185,
   "id": "59288619-0a08-4b96-8aef-182809631e7f",
   "metadata": {},
   "outputs": [],
   "source": [
    "# Özet İstatiskler için"
   ]
  },
  {
   "cell_type": "code",
   "execution_count": 187,
   "id": "ed110c8d-9f23-4ae8-aa54-316244a8edfe",
   "metadata": {},
   "outputs": [
    {
     "data": {
      "text/plain": [
       "<bound method NDFrame.describe of           İsim Cinsiyet  Yaş  Saat\n",
       "0        Melih    Erkek   37     4\n",
       "1        Kübra    Kadın   36     3\n",
       "2        Büşra    Kadın   33     5\n",
       "3       Kürşat    Erkek   28     2\n",
       "4       Gülnur    Kadın   27     6\n",
       "5        Feyzi    Erkek   25     1\n",
       "6         Esra    Kadın   25     3\n",
       "7        Zişan    Kadın   21     2\n",
       "8      Mustafa    Erkek   19     4\n",
       "9       Zeynep    Kadın   16     7\n",
       "10  Hayrunnisa    Kadın   14     4>"
      ]
     },
     "execution_count": 187,
     "metadata": {},
     "output_type": "execute_result"
    }
   ],
   "source": [
    "df.describe"
   ]
  },
  {
   "cell_type": "code",
   "execution_count": 191,
   "id": "d5a6770e-d0ad-4620-84ef-95bee959c766",
   "metadata": {},
   "outputs": [
    {
     "data": {
      "text/html": [
       "<div>\n",
       "<style scoped>\n",
       "    .dataframe tbody tr th:only-of-type {\n",
       "        vertical-align: middle;\n",
       "    }\n",
       "\n",
       "    .dataframe tbody tr th {\n",
       "        vertical-align: top;\n",
       "    }\n",
       "\n",
       "    .dataframe thead th {\n",
       "        text-align: right;\n",
       "    }\n",
       "</style>\n",
       "<table border=\"1\" class=\"dataframe\">\n",
       "  <thead>\n",
       "    <tr style=\"text-align: right;\">\n",
       "      <th></th>\n",
       "      <th>count</th>\n",
       "      <th>mean</th>\n",
       "      <th>std</th>\n",
       "      <th>min</th>\n",
       "      <th>25%</th>\n",
       "      <th>50%</th>\n",
       "      <th>75%</th>\n",
       "      <th>max</th>\n",
       "    </tr>\n",
       "    <tr>\n",
       "      <th>Cinsiyet</th>\n",
       "      <th></th>\n",
       "      <th></th>\n",
       "      <th></th>\n",
       "      <th></th>\n",
       "      <th></th>\n",
       "      <th></th>\n",
       "      <th></th>\n",
       "      <th></th>\n",
       "    </tr>\n",
       "  </thead>\n",
       "  <tbody>\n",
       "    <tr>\n",
       "      <th>Erkek</th>\n",
       "      <td>4.0</td>\n",
       "      <td>27.250000</td>\n",
       "      <td>7.50000</td>\n",
       "      <td>19.0</td>\n",
       "      <td>23.5</td>\n",
       "      <td>26.5</td>\n",
       "      <td>30.25</td>\n",
       "      <td>37.0</td>\n",
       "    </tr>\n",
       "    <tr>\n",
       "      <th>Kadın</th>\n",
       "      <td>7.0</td>\n",
       "      <td>24.571429</td>\n",
       "      <td>8.22308</td>\n",
       "      <td>14.0</td>\n",
       "      <td>18.5</td>\n",
       "      <td>25.0</td>\n",
       "      <td>30.00</td>\n",
       "      <td>36.0</td>\n",
       "    </tr>\n",
       "  </tbody>\n",
       "</table>\n",
       "</div>"
      ],
      "text/plain": [
       "          count       mean      std   min   25%   50%    75%   max\n",
       "Cinsiyet                                                          \n",
       "Erkek       4.0  27.250000  7.50000  19.0  23.5  26.5  30.25  37.0\n",
       "Kadın       7.0  24.571429  8.22308  14.0  18.5  25.0  30.00  36.0"
      ]
     },
     "execution_count": 191,
     "metadata": {},
     "output_type": "execute_result"
    }
   ],
   "source": [
    "# HERHANGİ BİR GRUBA GÖRE ÖZET İSTATİSTİKLER\n",
    "df[\"Yaş\"].groupby(df[\"Cinsiyet\"]).describe()"
   ]
  },
  {
   "cell_type": "code",
   "execution_count": null,
   "id": "353ad15e-5c7d-4c43-bbf9-3c9a966f9e62",
   "metadata": {},
   "outputs": [],
   "source": []
  }
 ],
 "metadata": {
  "kernelspec": {
   "display_name": "Python 3 (ipykernel)",
   "language": "python",
   "name": "python3"
  },
  "language_info": {
   "codemirror_mode": {
    "name": "ipython",
    "version": 3
   },
   "file_extension": ".py",
   "mimetype": "text/x-python",
   "name": "python",
   "nbconvert_exporter": "python",
   "pygments_lexer": "ipython3",
   "version": "3.11.4"
  }
 },
 "nbformat": 4,
 "nbformat_minor": 5
}
